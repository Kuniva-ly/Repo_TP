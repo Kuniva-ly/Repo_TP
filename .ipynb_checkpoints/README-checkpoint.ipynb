{
 "cells": [
  {
   "cell_type": "markdown",
   "id": "4f072dcd-f8c7-4ab2-8127-39368fc5c2f2",
   "metadata": {},
   "source": [
    "# *Document Class in Python*\n",
    "\n",
    "Ce document est le TP de python\n",
    "\n",
    "## *Code*\n",
    "\n",
    "```python\n",
    "from abc import ABC, abstractmethod\n",
    "from enum import Enum  \n",
    "\n",
    "class Document(ABC):\n",
    "    nb_document = 0  \n",
    "\n",
    "    "
   ]
  },
  {
   "cell_type": "code",
   "execution_count": null,
   "id": "e7ba973f-8622-4647-8230-8680910be5f2",
   "metadata": {},
   "outputs": [],
   "source": []
  }
 ],
 "metadata": {
  "kernelspec": {
   "display_name": "Python 3 (ipykernel)",
   "language": "python",
   "name": "python3"
  },
  "language_info": {
   "codemirror_mode": {
    "name": "ipython",
    "version": 3
   },
   "file_extension": ".py",
   "mimetype": "text/x-python",
   "name": "python",
   "nbconvert_exporter": "python",
   "pygments_lexer": "ipython3",
   "version": "3.14.0"
  }
 },
 "nbformat": 4,
 "nbformat_minor": 5
}
